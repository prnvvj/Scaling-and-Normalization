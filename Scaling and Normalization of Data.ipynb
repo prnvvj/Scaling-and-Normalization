{
 "cells": [
  {
   "cell_type": "code",
   "execution_count": 1,
   "id": "vocal-cabinet",
   "metadata": {},
   "outputs": [
    {
     "data": {
      "text/html": [
       "<style>.container { width:100% !important; }</style>"
      ],
      "text/plain": [
       "<IPython.core.display.HTML object>"
      ]
     },
     "metadata": {},
     "output_type": "display_data"
    }
   ],
   "source": [
    "from IPython.core.display import display, HTML\n",
    "display(HTML(\"<style>.container { width:100% !important; }</style>\"))"
   ]
  },
  {
   "cell_type": "code",
   "execution_count": 2,
   "id": "transparent-feeding",
   "metadata": {},
   "outputs": [],
   "source": [
    "import pandas as pd\n",
    "import numpy as np\n",
    "\n",
    "# for Box-Cox Transformation\n",
    "from scipy import stats\n",
    "\n",
    "# for min_max scaling\n",
    "from mlxtend.preprocessing import minmax_scaling\n",
    "\n",
    "# plotting modules\n",
    "import seaborn as sns\n",
    "import matplotlib.pyplot as plt"
   ]
  },
  {
   "cell_type": "markdown",
   "id": "generic-forth",
   "metadata": {},
   "source": [
    "##### Scaling of Data:\n",
    "In scaling, you are changing the range of your data\n",
    "This means that we're transforming the data so that it fits within a specific scale, like 0-100 or 0-1. We want to scale data when you're using methods based on measures of how far apart data points.\n",
    "*i.e.:* If we are looking at the prices of some products in both Rupees and US dollar. One US dollar is worth about 73 Rupees, but if we do not scale the prices methods like SVM or KNN will consider a difference in price of 1 INR. as important as a difference of 1 US dollar! This clearly doesn't fir with our intuitions of the world. With currency, we can convert between currencies. But what about if we're looking at something like hight and weight? It is not entirely clear how many pounds should equal one inch (or how many KG should equal to one KM).\n",
    "By scaling the variables, you can help compare different variables on equal footing."
   ]
  },
  {
   "cell_type": "code",
   "execution_count": 3,
   "id": "requested-warning",
   "metadata": {},
   "outputs": [],
   "source": [
    "# ----- Generating 1000 data points randomly drawn from an exponential distribution\n",
    "originalData = np.random.exponential(size = 1000)\n",
    "\n",
    "# ----- min-mix scale the data between 0 and 1\n",
    "scaledData = minmax_scaling(originalData, columns = [0])"
   ]
  },
  {
   "cell_type": "code",
   "execution_count": 4,
   "id": "paperback-ozone",
   "metadata": {
    "scrolled": false
   },
   "outputs": [
    {
     "data": {
      "text/plain": [
       "array([0.73468413, 0.45498199, 0.01652432, 0.50460794, 0.03556468,\n",
       "       0.05585611, 0.28675168, 0.59008564, 0.05725182, 1.13945675])"
      ]
     },
     "execution_count": 4,
     "metadata": {},
     "output_type": "execute_result"
    }
   ],
   "source": [
    "originalData[:10]"
   ]
  },
  {
   "cell_type": "code",
   "execution_count": 5,
   "id": "social-composite",
   "metadata": {},
   "outputs": [
    {
     "data": {
      "text/plain": [
       "array([[0.10672603],\n",
       "       [0.06607598],\n",
       "       [0.00235345],\n",
       "       [0.07328828],\n",
       "       [0.00512065],\n",
       "       [0.00806967],\n",
       "       [0.0416265 ],\n",
       "       [0.08571104],\n",
       "       [0.00827252],\n",
       "       [0.16555299]])"
      ]
     },
     "execution_count": 5,
     "metadata": {},
     "output_type": "execute_result"
    }
   ],
   "source": [
    "scaledData[:10]"
   ]
  },
  {
   "cell_type": "code",
   "execution_count": 6,
   "id": "formal-horse",
   "metadata": {},
   "outputs": [
    {
     "name": "stderr",
     "output_type": "stream",
     "text": [
      "C:\\Users\\dashc\\anaconda3\\lib\\site-packages\\seaborn\\distributions.py:2557: FutureWarning: `distplot` is a deprecated function and will be removed in a future version. Please adapt your code to use either `displot` (a figure-level function with similar flexibility) or `histplot` (an axes-level function for histograms).\n",
      "  warnings.warn(msg, FutureWarning)\n",
      "C:\\Users\\dashc\\anaconda3\\lib\\site-packages\\seaborn\\distributions.py:2557: FutureWarning: `distplot` is a deprecated function and will be removed in a future version. Please adapt your code to use either `displot` (a figure-level function with similar flexibility) or `histplot` (an axes-level function for histograms).\n",
      "  warnings.warn(msg, FutureWarning)\n"
     ]
    },
    {
     "data": {
      "text/plain": [
       "Text(0.5, 1.0, 'Scaled Data')"
      ]
     },
     "execution_count": 6,
     "metadata": {},
     "output_type": "execute_result"
    },
    {
     "data": {
      "image/png": "[encoded data removed]",
      "text/plain": [
       "<Figure size 432x288 with 2 Axes>"
      ]
     },
     "metadata": {
      "needs_background": "light"
     },
     "output_type": "display_data"
    }
   ],
   "source": [
    "# ----- Plotting both data togehter to compare\n",
    "fig, ax = plt.subplots(1, 2)\n",
    "sns.distplot(originalData, ax = ax[0])\n",
    "ax[0].set_title(\"Original Data\")\n",
    "sns.distplot(scaledData, ax=ax[1])\n",
    "ax[1].set_title(\"Scaled Data\")"
   ]
  },
  {
   "cell_type": "code",
   "execution_count": 7,
   "id": "further-polish",
   "metadata": {},
   "outputs": [
    {
     "name": "stderr",
     "output_type": "stream",
     "text": [
      "C:\\Users\\dashc\\anaconda3\\lib\\site-packages\\seaborn\\distributions.py:2557: FutureWarning: `distplot` is a deprecated function and will be removed in a future version. Please adapt your code to use either `displot` (a figure-level function with similar flexibility) or `histplot` (an axes-level function for histograms).\n",
      "  warnings.warn(msg, FutureWarning)\n"
     ]
    },
    {
     "data": {
      "text/plain": [
       "Text(0.5, 1.0, 'Scaled data')"
      ]
     },
     "execution_count": 7,
     "metadata": {},
     "output_type": "execute_result"
    },
    {
     "data": {
      "image/png": "[encoded data removed]",
      "text/plain": [
       "<Figure size 432x288 with 2 Axes>"
      ]
     },
     "metadata": {
      "needs_background": "light"
     },
     "output_type": "display_data"
    }
   ],
   "source": [
    "fig, ax=plt.subplots(1,2)\n",
    "sns.distplot(originalData, kde = 0, ax=ax[0])\n",
    "ax[0].set_title(\"Original Data\")\n",
    "sns.distplot(scaledData, kde = 0, ax=ax[1])\n",
    "ax[1].set_title(\"Scaled data\")"
   ]
  },
  {
   "cell_type": "markdown",
   "id": "sized-illinois",
   "metadata": {},
   "source": [
    "*Notice that the shape of the data doesn't change, but that instead of ranging from 0 to 8ish, it now ranges from 0 to 1.*"
   ]
  },
  {
   "cell_type": "markdown",
   "id": "cardiac-infrastructure",
   "metadata": {},
   "source": [
    "##### Normalization of Data:\n",
    "Scaling just changes the range of the data. Normalization is more radical transformation. The point of normalization is to change our observations so that they can be described as normal distribution.\n",
    "```\n",
    "Normal Distribution: also known as the 'bell curve', this is a specific statistical distribution where a roughly equal observations fall above the mean, the mean and the median are the same, and there are more observations closer to the mean. The normal distribution is also known as the Gaussian distribution.\n",
    "```\n",
    "\n",
    "In general, you'll only want to normalize your data if you're going to be using a machine learning or statistics technique that assumes your data is normally distributed. Some examples of these include t-tests, ANOVAs, linear regression, linear discriminant analysis (LDA) and Gaussian naive Bayes. (Pro tip: any method with \"Gaussian\" in the name probably assumes normality.)\n",
    "\n",
    "The method were using to normalize here is called the Box-Cox Transformation. Let's take a quick peek at what normalizing some data looks like:"
   ]
  },
  {
   "cell_type": "code",
   "execution_count": 8,
   "id": "proprietary-soviet",
   "metadata": {},
   "outputs": [],
   "source": [
    "# ----- Normalize the exponential data with box-cox\n",
    "normalizedData = stats.boxcox(originalData)"
   ]
  },
  {
   "cell_type": "code",
   "execution_count": 9,
   "id": "consolidated-membership",
   "metadata": {},
   "outputs": [
    {
     "name": "stderr",
     "output_type": "stream",
     "text": [
      "C:\\Users\\dashc\\anaconda3\\lib\\site-packages\\seaborn\\distributions.py:2557: FutureWarning: `distplot` is a deprecated function and will be removed in a future version. Please adapt your code to use either `displot` (a figure-level function with similar flexibility) or `histplot` (an axes-level function for histograms).\n",
      "  warnings.warn(msg, FutureWarning)\n"
     ]
    },
    {
     "data": {
      "text/plain": [
       "Text(0.5, 1.0, 'Normalized data')"
      ]
     },
     "execution_count": 9,
     "metadata": {},
     "output_type": "execute_result"
    },
    {
     "data": {
      "image/png": "[encoded data removed]",
      "text/plain": [
       "<Figure size 432x288 with 2 Axes>"
      ]
     },
     "metadata": {
      "needs_background": "light"
     },
     "output_type": "display_data"
    }
   ],
   "source": [
    "# ----- plotting both together to compare\n",
    "fig, ax=plt.subplots(1,2)\n",
    "sns.distplot(originalData, ax=ax[0])\n",
    "ax[0].set_title(\"Original Data\")\n",
    "sns.distplot(normalizedData[0], ax=ax[1])\n",
    "ax[1].set_title(\"Normalized data\")"
   ]
  },
  {
   "cell_type": "markdown",
   "id": "canadian-harmony",
   "metadata": {},
   "source": [
    "*Notice that the shape of our data has changed. Before normalizing it was almost L-shaped. But after normalizing it looks more like the outline of a bell (hence \"bell curve\").*"
   ]
  },
  {
   "cell_type": "markdown",
   "id": "norman-consumer",
   "metadata": {},
   "source": [
    "##### Applying Scaling method on the Dataset"
   ]
  },
  {
   "cell_type": "code",
   "execution_count": 10,
   "id": "further-leader",
   "metadata": {},
   "outputs": [],
   "source": [
    "data = pd.read_csv(r'D:\\DashClicks Personal\\pvProjects22042021.csv')\n",
    "# set seed for reproducibility\n",
    "np.random.seed(0)"
   ]
  },
  {
   "cell_type": "code",
   "execution_count": 11,
   "id": "median-maple",
   "metadata": {},
   "outputs": [
    {
     "data": {
      "text/html": [
       "<div>\n",
       "<style scoped>\n",
       "    .dataframe tbody tr th:only-of-type {\n",
       "        vertical-align: middle;\n",
       "    }\n",
       "\n",
       "    .dataframe tbody tr th {\n",
       "        vertical-align: top;\n",
       "    }\n",
       "\n",
       "    .dataframe thead th {\n",
       "        text-align: right;\n",
       "    }\n",
       "</style>\n",
       "<table border=\"1\" class=\"dataframe\">\n",
       "  <thead>\n",
       "    <tr style=\"text-align: right;\">\n",
       "      <th></th>\n",
       "      <th>ID</th>\n",
       "      <th>name</th>\n",
       "      <th>category</th>\n",
       "      <th>main_category</th>\n",
       "      <th>currency</th>\n",
       "      <th>deadline</th>\n",
       "      <th>goal</th>\n",
       "      <th>launched</th>\n",
       "      <th>pledged</th>\n",
       "      <th>state</th>\n",
       "      <th>backers</th>\n",
       "      <th>country</th>\n",
       "      <th>usd pledged</th>\n",
       "      <th>usd_pledged_real</th>\n",
       "      <th>usd_goal_real</th>\n",
       "    </tr>\n",
       "  </thead>\n",
       "  <tbody>\n",
       "    <tr>\n",
       "      <th>338862</th>\n",
       "      <td>796196901</td>\n",
       "      <td>10G Christmas Tree</td>\n",
       "      <td>Art</td>\n",
       "      <td>Art</td>\n",
       "      <td>USD</td>\n",
       "      <td>2010-12-26</td>\n",
       "      <td>10526.0</td>\n",
       "      <td>2010-12-08 08:44:04</td>\n",
       "      <td>0.0</td>\n",
       "      <td>failed</td>\n",
       "      <td>0</td>\n",
       "      <td>US</td>\n",
       "      <td>0.0</td>\n",
       "      <td>0.0</td>\n",
       "      <td>10526.0</td>\n",
       "    </tr>\n",
       "    <tr>\n",
       "      <th>277871</th>\n",
       "      <td>483825010</td>\n",
       "      <td>Gliff</td>\n",
       "      <td>Gaming Hardware</td>\n",
       "      <td>Games</td>\n",
       "      <td>USD</td>\n",
       "      <td>2016-03-28</td>\n",
       "      <td>10000.0</td>\n",
       "      <td>2016-01-28 04:56:18</td>\n",
       "      <td>51.0</td>\n",
       "      <td>failed</td>\n",
       "      <td>5</td>\n",
       "      <td>US</td>\n",
       "      <td>51.0</td>\n",
       "      <td>51.0</td>\n",
       "      <td>10000.0</td>\n",
       "    </tr>\n",
       "    <tr>\n",
       "      <th>47000</th>\n",
       "      <td>123916947</td>\n",
       "      <td>STUFFED Food Truck</td>\n",
       "      <td>Food Trucks</td>\n",
       "      <td>Food</td>\n",
       "      <td>USD</td>\n",
       "      <td>2015-01-06</td>\n",
       "      <td>60000.0</td>\n",
       "      <td>2014-11-07 02:24:36</td>\n",
       "      <td>25.0</td>\n",
       "      <td>failed</td>\n",
       "      <td>1</td>\n",
       "      <td>US</td>\n",
       "      <td>25.0</td>\n",
       "      <td>25.0</td>\n",
       "      <td>60000.0</td>\n",
       "    </tr>\n",
       "    <tr>\n",
       "      <th>111338</th>\n",
       "      <td>1565733636</td>\n",
       "      <td>NeoExodus Adventure: Origin of Man for Pathfin...</td>\n",
       "      <td>Tabletop Games</td>\n",
       "      <td>Games</td>\n",
       "      <td>USD</td>\n",
       "      <td>2012-05-01</td>\n",
       "      <td>500.0</td>\n",
       "      <td>2012-03-15 01:16:10</td>\n",
       "      <td>585.0</td>\n",
       "      <td>successful</td>\n",
       "      <td>17</td>\n",
       "      <td>US</td>\n",
       "      <td>585.0</td>\n",
       "      <td>585.0</td>\n",
       "      <td>500.0</td>\n",
       "    </tr>\n",
       "    <tr>\n",
       "      <th>53743</th>\n",
       "      <td>1273544891</td>\n",
       "      <td>NAPOLEON IN NEW YORK! an original TV Series</td>\n",
       "      <td>Comedy</td>\n",
       "      <td>Film &amp; Video</td>\n",
       "      <td>USD</td>\n",
       "      <td>2016-07-26</td>\n",
       "      <td>25000.0</td>\n",
       "      <td>2016-05-27 00:07:25</td>\n",
       "      <td>25.0</td>\n",
       "      <td>failed</td>\n",
       "      <td>1</td>\n",
       "      <td>US</td>\n",
       "      <td>25.0</td>\n",
       "      <td>25.0</td>\n",
       "      <td>25000.0</td>\n",
       "    </tr>\n",
       "  </tbody>\n",
       "</table>\n",
       "</div>"
      ],
      "text/plain": [
       "                ID                                               name  \\\n",
       "338862   796196901                                 10G Christmas Tree   \n",
       "277871   483825010                                              Gliff   \n",
       "47000    123916947                                 STUFFED Food Truck   \n",
       "111338  1565733636  NeoExodus Adventure: Origin of Man for Pathfin...   \n",
       "53743   1273544891        NAPOLEON IN NEW YORK! an original TV Series   \n",
       "\n",
       "               category main_category currency    deadline     goal  \\\n",
       "338862              Art           Art      USD  2010-12-26  10526.0   \n",
       "277871  Gaming Hardware         Games      USD  2016-03-28  10000.0   \n",
       "47000       Food Trucks          Food      USD  2015-01-06  60000.0   \n",
       "111338   Tabletop Games         Games      USD  2012-05-01    500.0   \n",
       "53743            Comedy  Film & Video      USD  2016-07-26  25000.0   \n",
       "\n",
       "                   launched  pledged       state  backers country  \\\n",
       "338862  2010-12-08 08:44:04      0.0      failed        0      US   \n",
       "277871  2016-01-28 04:56:18     51.0      failed        5      US   \n",
       "47000   2014-11-07 02:24:36     25.0      failed        1      US   \n",
       "111338  2012-03-15 01:16:10    585.0  successful       17      US   \n",
       "53743   2016-05-27 00:07:25     25.0      failed        1      US   \n",
       "\n",
       "        usd pledged  usd_pledged_real  usd_goal_real  \n",
       "338862          0.0               0.0        10526.0  \n",
       "277871         51.0              51.0        10000.0  \n",
       "47000          25.0              25.0        60000.0  \n",
       "111338        585.0             585.0          500.0  \n",
       "53743          25.0              25.0        25000.0  "
      ]
     },
     "execution_count": 11,
     "metadata": {},
     "output_type": "execute_result"
    }
   ],
   "source": [
    "data.sample(5)"
   ]
  },
  {
   "cell_type": "code",
   "execution_count": 12,
   "id": "committed-affect",
   "metadata": {},
   "outputs": [
    {
     "name": "stderr",
     "output_type": "stream",
     "text": [
      "C:\\Users\\dashc\\anaconda3\\lib\\site-packages\\mlxtend\\preprocessing\\scaling.py:40: FutureWarning: Support for multi-dimensional indexing (e.g. `obj[:, None]`) is deprecated and will be removed in a future version.  Convert to a numpy array before indexing instead.\n",
      "  ary_new = ary_new[:, np.newaxis]\n",
      "C:\\Users\\dashc\\anaconda3\\lib\\site-packages\\seaborn\\distributions.py:2557: FutureWarning: `distplot` is a deprecated function and will be removed in a future version. Please adapt your code to use either `displot` (a figure-level function with similar flexibility) or `histplot` (an axes-level function for histograms).\n",
      "  warnings.warn(msg, FutureWarning)\n",
      "C:\\Users\\dashc\\anaconda3\\lib\\site-packages\\seaborn\\distributions.py:2557: FutureWarning: `distplot` is a deprecated function and will be removed in a future version. Please adapt your code to use either `displot` (a figure-level function with similar flexibility) or `histplot` (an axes-level function for histograms).\n",
      "  warnings.warn(msg, FutureWarning)\n"
     ]
    },
    {
     "data": {
      "text/plain": [
       "Text(0.5, 1.0, 'Scaled data')"
      ]
     },
     "execution_count": 12,
     "metadata": {},
     "output_type": "execute_result"
    },
    {
     "data": {
      "image/png": "[encoded data removed]",
      "text/plain": [
       "<Figure size 432x288 with 2 Axes>"
      ]
     },
     "metadata": {
      "needs_background": "light"
     },
     "output_type": "display_data"
    }
   ],
   "source": [
    "# select the usd_goal_real column\n",
    "usdGoal = data.usd_goal_real\n",
    "\n",
    "# scale the goals from 0 to 1\n",
    "scaled_data = minmax_scaling(usdGoal, columns = [0])\n",
    "\n",
    "# plot the original & scaled data together to compare\n",
    "fig, ax=plt.subplots(1,2)\n",
    "sns.distplot(data.usd_goal_real, ax=ax[0])\n",
    "ax[0].set_title(\"Original Data\")\n",
    "sns.distplot(scaled_data, ax=ax[1])\n",
    "ax[1].set_title(\"Scaled data\")"
   ]
  },
  {
   "cell_type": "markdown",
   "id": "packed-compilation",
   "metadata": {},
   "source": [
    "*You can see that scaling changed the scales of the plots dramatically (but not the shape of the data: it looks like most campaigns have small goals but a few have very large ones)*"
   ]
  },
  {
   "cell_type": "markdown",
   "id": "aggregate-wallet",
   "metadata": {},
   "source": [
    "##### Applying Normalization method on the Dataset"
   ]
  },
  {
   "cell_type": "code",
   "execution_count": 13,
   "id": "incoming-muscle",
   "metadata": {},
   "outputs": [],
   "source": [
    "# ----- Get the index of all positive pledges (Box-Cox only takes postive values)\n",
    "index_of_positive_pledges = data.usd_pledged_real > 0\n",
    "\n",
    "positive_pledges = data['usd_pledged_real'][index_of_positive_pledges]"
   ]
  },
  {
   "cell_type": "code",
   "execution_count": 14,
   "id": "improving-paint",
   "metadata": {},
   "outputs": [
    {
     "name": "stderr",
     "output_type": "stream",
     "text": [
      "C:\\Users\\dashc\\anaconda3\\lib\\site-packages\\seaborn\\distributions.py:2557: FutureWarning: `distplot` is a deprecated function and will be removed in a future version. Please adapt your code to use either `displot` (a figure-level function with similar flexibility) or `histplot` (an axes-level function for histograms).\n",
      "  warnings.warn(msg, FutureWarning)\n",
      "C:\\Users\\dashc\\anaconda3\\lib\\site-packages\\seaborn\\distributions.py:2557: FutureWarning: `distplot` is a deprecated function and will be removed in a future version. Please adapt your code to use either `displot` (a figure-level function with similar flexibility) or `histplot` (an axes-level function for histograms).\n",
      "  warnings.warn(msg, FutureWarning)\n"
     ]
    },
    {
     "data": {
      "text/plain": [
       "Text(0.5, 1.0, 'Normalized data')"
      ]
     },
     "execution_count": 14,
     "metadata": {},
     "output_type": "execute_result"
    },
    {
     "data": {
      "image/png": "[encoded data removed]",
      "text/plain": [
       "<Figure size 432x288 with 2 Axes>"
      ]
     },
     "metadata": {
      "needs_background": "light"
     },
     "output_type": "display_data"
    }
   ],
   "source": [
    "# normalize the pledges (w/ Box-Cox)\n",
    "normalized_pledges = stats.boxcox(positive_pledges)[0]\n",
    "\n",
    "# plot both together to compare\n",
    "fig, ax=plt.subplots(1,2)\n",
    "sns.distplot(positive_pledges, ax=ax[0])\n",
    "ax[0].set_title(\"Original Data\")\n",
    "sns.distplot(normalized_pledges, ax=ax[1])\n",
    "ax[1].set_title(\"Normalized data\")"
   ]
  },
  {
   "cell_type": "markdown",
   "id": "generic-resolution",
   "metadata": {},
   "source": [
    "*You can see that normalization changed the shape of the plots dramatically*"
   ]
  },
  {
   "cell_type": "code",
   "execution_count": null,
   "id": "substantial-productivity",
   "metadata": {},
   "outputs": [],
   "source": []
  }
 ],
 "metadata": {
  "hide_input": false,
  "kernelspec": {
   "display_name": "Python 3",
   "language": "python",
   "name": "python3"
  },
  "language_info": {
   "codemirror_mode": {
    "name": "ipython",
    "version": 3
   },
   "file_extension": ".py",
   "mimetype": "text/x-python",
   "name": "python",
   "nbconvert_exporter": "python",
   "pygments_lexer": "ipython3",
   "version": "3.8.5"
  }
 },
 "nbformat": 4,
 "nbformat_minor": 5
}
